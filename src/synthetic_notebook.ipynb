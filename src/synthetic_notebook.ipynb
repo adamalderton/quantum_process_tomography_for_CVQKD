{
 "cells": [
  {
   "cell_type": "markdown",
   "metadata": {},
   "source": [
    "### Semi-Synthetic Notebook"
   ]
  },
  {
   "cell_type": "code",
   "execution_count": 1,
   "metadata": {},
   "outputs": [
    {
     "name": "stdout",
     "output_type": "stream",
     "text": [
      "('C:\\\\Users\\\\aa2301\\\\OneDrive - University of Cambridge\\\\PhD\\\\Projects\\\\CVQKD '\n",
      " 'Postselection and Security\\\\QPT_for_CVQKD\\\\data\\\\')\n"
     ]
    }
   ],
   "source": [
    "import numpy as np\n",
    "import pandas as pd\n",
    "import matplotlib.pyplot as plt\n",
    "from scipy.stats import multivariate_normal\n",
    "from pprint import pprint\n",
    "\n",
    "from data_dir import data_dir\n",
    "\n",
    "# Load m1_asymptotic data, which is one directory up from data_dir\n",
    "data_dir = data_dir.split(\"\\\\\")[:-2]\n",
    "data_dir = \"\\\\\".join(data_dir) + \"\\\\\"\n",
    "\n",
    "pprint(data_dir)"
   ]
  },
  {
   "cell_type": "code",
   "execution_count": 2,
   "metadata": {},
   "outputs": [
    {
     "data": {
      "text/html": [
       "<div>\n",
       "<style scoped>\n",
       "    .dataframe tbody tr th:only-of-type {\n",
       "        vertical-align: middle;\n",
       "    }\n",
       "\n",
       "    .dataframe tbody tr th {\n",
       "        vertical-align: top;\n",
       "    }\n",
       "\n",
       "    .dataframe thead th {\n",
       "        text-align: right;\n",
       "    }\n",
       "</style>\n",
       "<table border=\"1\" class=\"dataframe\">\n",
       "  <thead>\n",
       "    <tr style=\"text-align: right;\">\n",
       "      <th></th>\n",
       "      <th>loss</th>\n",
       "      <th>SR_key_rate</th>\n",
       "      <th>SR_v_mod</th>\n",
       "      <th>SR_p_pass</th>\n",
       "      <th>SR_leaked_information</th>\n",
       "      <th>GBSR_key_rate</th>\n",
       "      <th>GBSR_v_mod</th>\n",
       "      <th>GBSR_p_pass</th>\n",
       "      <th>GBSR_leaked_information</th>\n",
       "      <th>GBSR_g</th>\n",
       "    </tr>\n",
       "  </thead>\n",
       "  <tbody>\n",
       "    <tr>\n",
       "      <th>count</th>\n",
       "      <td>200.000000</td>\n",
       "      <td>200.000000</td>\n",
       "      <td>200.000000</td>\n",
       "      <td>200.0</td>\n",
       "      <td>200.000000</td>\n",
       "      <td>200.000000</td>\n",
       "      <td>200.000000</td>\n",
       "      <td>200.000000</td>\n",
       "      <td>200.000000</td>\n",
       "      <td>200.000000</td>\n",
       "    </tr>\n",
       "    <tr>\n",
       "      <th>mean</th>\n",
       "      <td>-7.550000</td>\n",
       "      <td>0.004608</td>\n",
       "      <td>0.157965</td>\n",
       "      <td>1.0</td>\n",
       "      <td>0.989600</td>\n",
       "      <td>0.092979</td>\n",
       "      <td>0.543136</td>\n",
       "      <td>0.335143</td>\n",
       "      <td>0.689956</td>\n",
       "      <td>1.058478</td>\n",
       "    </tr>\n",
       "    <tr>\n",
       "      <th>std</th>\n",
       "      <td>4.333668</td>\n",
       "      <td>0.013160</td>\n",
       "      <td>0.297142</td>\n",
       "      <td>0.0</td>\n",
       "      <td>0.027502</td>\n",
       "      <td>0.035485</td>\n",
       "      <td>0.585348</td>\n",
       "      <td>0.046879</td>\n",
       "      <td>0.101616</td>\n",
       "      <td>0.052327</td>\n",
       "    </tr>\n",
       "    <tr>\n",
       "      <th>min</th>\n",
       "      <td>-15.000000</td>\n",
       "      <td>0.000139</td>\n",
       "      <td>0.071977</td>\n",
       "      <td>1.0</td>\n",
       "      <td>0.745549</td>\n",
       "      <td>0.068095</td>\n",
       "      <td>0.085643</td>\n",
       "      <td>0.287095</td>\n",
       "      <td>0.257783</td>\n",
       "      <td>1.020745</td>\n",
       "    </tr>\n",
       "    <tr>\n",
       "      <th>25%</th>\n",
       "      <td>-11.275000</td>\n",
       "      <td>0.000342</td>\n",
       "      <td>0.075341</td>\n",
       "      <td>1.0</td>\n",
       "      <td>0.992859</td>\n",
       "      <td>0.071595</td>\n",
       "      <td>0.223150</td>\n",
       "      <td>0.302777</td>\n",
       "      <td>0.658334</td>\n",
       "      <td>1.026590</td>\n",
       "    </tr>\n",
       "    <tr>\n",
       "      <th>50%</th>\n",
       "      <td>-7.550000</td>\n",
       "      <td>0.000904</td>\n",
       "      <td>0.084676</td>\n",
       "      <td>1.0</td>\n",
       "      <td>0.997834</td>\n",
       "      <td>0.080057</td>\n",
       "      <td>0.422926</td>\n",
       "      <td>0.324718</td>\n",
       "      <td>0.736124</td>\n",
       "      <td>1.042473</td>\n",
       "    </tr>\n",
       "    <tr>\n",
       "      <th>75%</th>\n",
       "      <td>-3.825000</td>\n",
       "      <td>0.002989</td>\n",
       "      <td>0.119609</td>\n",
       "      <td>1.0</td>\n",
       "      <td>0.999180</td>\n",
       "      <td>0.099233</td>\n",
       "      <td>0.625926</td>\n",
       "      <td>0.350022</td>\n",
       "      <td>0.760622</td>\n",
       "      <td>1.062193</td>\n",
       "    </tr>\n",
       "    <tr>\n",
       "      <th>max</th>\n",
       "      <td>-0.100000</td>\n",
       "      <td>0.129929</td>\n",
       "      <td>3.308572</td>\n",
       "      <td>1.0</td>\n",
       "      <td>0.999668</td>\n",
       "      <td>0.313925</td>\n",
       "      <td>5.348363</td>\n",
       "      <td>0.592614</td>\n",
       "      <td>0.762712</td>\n",
       "      <td>1.335127</td>\n",
       "    </tr>\n",
       "  </tbody>\n",
       "</table>\n",
       "</div>"
      ],
      "text/plain": [
       "             loss  SR_key_rate    SR_v_mod  SR_p_pass  SR_leaked_information  \\\n",
       "count  200.000000   200.000000  200.000000      200.0             200.000000   \n",
       "mean    -7.550000     0.004608    0.157965        1.0               0.989600   \n",
       "std      4.333668     0.013160    0.297142        0.0               0.027502   \n",
       "min    -15.000000     0.000139    0.071977        1.0               0.745549   \n",
       "25%    -11.275000     0.000342    0.075341        1.0               0.992859   \n",
       "50%     -7.550000     0.000904    0.084676        1.0               0.997834   \n",
       "75%     -3.825000     0.002989    0.119609        1.0               0.999180   \n",
       "max     -0.100000     0.129929    3.308572        1.0               0.999668   \n",
       "\n",
       "       GBSR_key_rate  GBSR_v_mod  GBSR_p_pass  GBSR_leaked_information  \\\n",
       "count     200.000000  200.000000   200.000000               200.000000   \n",
       "mean        0.092979    0.543136     0.335143                 0.689956   \n",
       "std         0.035485    0.585348     0.046879                 0.101616   \n",
       "min         0.068095    0.085643     0.287095                 0.257783   \n",
       "25%         0.071595    0.223150     0.302777                 0.658334   \n",
       "50%         0.080057    0.422926     0.324718                 0.736124   \n",
       "75%         0.099233    0.625926     0.350022                 0.760622   \n",
       "max         0.313925    5.348363     0.592614                 0.762712   \n",
       "\n",
       "           GBSR_g  \n",
       "count  200.000000  \n",
       "mean     1.058478  \n",
       "std      0.052327  \n",
       "min      1.020745  \n",
       "25%      1.026590  \n",
       "50%      1.042473  \n",
       "75%      1.062193  \n",
       "max      1.335127  "
      ]
     },
     "execution_count": 2,
     "metadata": {},
     "output_type": "execute_result"
    }
   ],
   "source": [
    "# Load data as pandas dataframe. We need loss vs optimal v_mod\n",
    "\n",
    "data = pd.read_csv(data_dir + \"m1_asymptotic_GBSR_vs_SR.csv\", sep = \" \")\n",
    "\n",
    "data.describe()"
   ]
  },
  {
   "cell_type": "code",
   "execution_count": 3,
   "metadata": {},
   "outputs": [
    {
     "data": {
      "image/png": "[encoded data removed]",
      "text/plain": [
       "<Figure size 640x480 with 1 Axes>"
      ]
     },
     "metadata": {},
     "output_type": "display_data"
    }
   ],
   "source": [
    "losses = data[\"loss\"]\n",
    "optimal_v_mods = data[\"SR_v_mod\"]\n",
    "\n",
    "# Plot optimal_v_mods over losses, with y log scale and x axis inverted\n",
    "plt.plot(losses, optimal_v_mods, \"k-\")\n",
    "plt.yscale(\"log\")\n",
    "plt.xlabel(\"losses\")\n",
    "plt.ylabel(\"optimal v_mods\")\n",
    "plt.gca().invert_xaxis()\n",
    "plt.show()"
   ]
  },
  {
   "cell_type": "code",
   "execution_count": 4,
   "metadata": {},
   "outputs": [
    {
     "data": {
      "text/plain": [
       "0.0719767351866987"
      ]
     },
     "execution_count": 4,
     "metadata": {},
     "output_type": "execute_result"
    }
   ],
   "source": [
    "# Using an attenuation coefficient on 0.2 dB/km and a 20 km link.\n",
    "# We can extract the optimal v_mod for the found loss from the data, using linear interpolation. Specifically, np.interp\n",
    "atten_coeff = -0.2\n",
    "loss = 20.0 * atten_coeff\n",
    "transmittance = 10 ** (loss / 10)\n",
    "\n",
    "optimal_v_mod_50km = np.interp(loss, losses, optimal_v_mods)\n",
    "\n",
    "# No excess noise (for now)\n",
    "xi = 0.0\n",
    "\n",
    "optimal_v_mod_50km"
   ]
  },
  {
   "cell_type": "markdown",
   "metadata": {},
   "source": [
    "For now, from here, as Bob's $q$ and $p$ values are highly non-Gaussian, I think it's best to proceed with synthetic data.\n",
    "\n",
    "That is, given a (marginalised) covariance matrix\n",
    "$$\n",
    "\\Sigma = \\begin{pmatrix}\n",
    "a & c \\\\\n",
    "c & b\n",
    "\\end{pmatrix}\n",
    "$$ which represents experimental parameters,\n",
    "$$ a = V_\\text{mod} + 1 $$\n",
    "$$ b = (TV_\\text{mod} + 1 + \\xi) $$\n",
    "$$ c = \\sqrt{T(a^2 - 1)} $$\n",
    "of which $a$ is Alice's variance, $b$ is Bob's variance and $c$ is the covariance of their data.\n",
    "\n"
   ]
  },
  {
   "cell_type": "code",
   "execution_count": null,
   "metadata": {},
   "outputs": [
    {
     "data": {
      "text/plain": [
       "array([[1.07197674, 0.2436624 ],\n",
       "       [0.2436624 , 1.02865445]])"
      ]
     },
     "execution_count": 5,
     "metadata": {},
     "output_type": "execute_result"
    }
   ],
   "source": [
    "a = optimal_v_mod_50km + 1.0\n",
    "b = (transmittance * optimal_v_mod_50km) + 1.0 + xi\n",
    "c = np.sqrt(transmittance * (a**2 - 1.0))\n",
    "\n",
    "cov_mat = np.array(\n",
    "    (\n",
    "        [a, c],\n",
    "        [c, b]\n",
    "    )\n",
    ")\n",
    "\n",
    "cov_mat"
   ]
  },
  {
   "cell_type": "code",
   "execution_count": 17,
   "metadata": {},
   "outputs": [
    {
     "data": {
      "image/png": "[encoded data removed]",
      "text/plain": [
       "<Figure size 640x480 with 1 Axes>"
      ]
     },
     "metadata": {},
     "output_type": "display_data"
    }
   ],
   "source": [
    "# Generate synthetic data by sampling from a multi-variate normal distribution.\n",
    "# As many samples as those generated in experiment. TODO: Need to talk to Muataz about how many blocks and bit rate this represents.\n",
    "n_samples = 500000\n",
    "rv = multivariate_normal([0.0, 0.0], cov_mat)\n",
    "\n",
    "samples = rv.rvs(n_samples)\n",
    "\n",
    "x_synthetic = samples[:, 0]\n",
    "y_synthetic = samples[:, 1]\n",
    "\n",
    "# Plot scatter plot of samples\n",
    "plt.scatter(x_synthetic, y_synthetic, marker=\".\")\n",
    "plt.xlabel(\"X\")\n",
    "plt.ylabel(\"Y\")\n",
    "plt.show()"
   ]
  },
  {
   "cell_type": "code",
   "execution_count": null,
   "metadata": {},
   "outputs": [],
   "source": []
  }
 ],
 "metadata": {
  "kernelspec": {
   "display_name": "base",
   "language": "python",
   "name": "python3"
  },
  "language_info": {
   "codemirror_mode": {
    "name": "ipython",
    "version": 3
   },
   "file_extension": ".py",
   "mimetype": "text/x-python",
   "name": "python",
   "nbconvert_exporter": "python",
   "pygments_lexer": "ipython3",
   "version": "3.10.9"
  }
 },
 "nbformat": 4,
 "nbformat_minor": 2
}
